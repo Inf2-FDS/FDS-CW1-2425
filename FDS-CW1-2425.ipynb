{
 "cells": [
  {
   "cell_type": "markdown",
   "metadata": {
    "deletable": false,
    "editable": false
   },
   "source": [
    "<span style=\"display: none\">\n",
    "\\setcounter{secnumdepth}{0}\n",
    "    \n",
    "\\newcommand{\\answerbox}[1][5]{\n",
    "  \\noindent\\hskip -0.025\\linewidth\\framebox[1.05\\linewidth]{\\vbox to #1\\baselineskip{}}\n",
    "\n",
    "  \\vspace{-#1\\baselineskip}\n",
    "\n",
    "\\vspace{-\\baselineskip}}\n",
    "</span>"
   ]
  },
  {
   "cell_type": "markdown",
   "metadata": {
    "deletable": false,
    "editable": true,
    "slideshow": {
     "slide_type": ""
    },
    "tags": []
   },
   "source": [
    "# Inf2-FDS 2024-25: Coursework 1 - Data wrangling and visualisation \n",
    "\n",
    "**Release date, Submission deadline and Late submission rules:** See **Coursework Planner** and **Assessment** Section on FDS Learn pages\n",
    "\n",
    "**It is very important that you read and follow the instructions below to the letter: you will be deducted marks for not following the advice below.**\n",
    "\n",
    "## Good Scholarly Practice \n",
    "\n",
    "Please remember the University requirement as regards all assessed work for credit.  Details about this can be found at: [http://web.inf.ed.ac.uk/infweb/admin/policies/academic-misconduct](http://web.inf.ed.ac.uk/infweb/admin/policies/academic-misconduct)\n",
    "\n",
    "Specifically, this coursework **must be your own work**. We want you to be able to discuss the class material with each other, but the coursework you submit must be your own work. You are free to form study groups and discuss the concepts related to, and the high-level approach to the coursework. **You may never share code or share write-ups**. It is also not permitted to discuss this coursework on Piazza. The only exception is that if you believe there is an error in the coursework, you may ask a private question to the instructors, and if we feel that the issue is justified, we will send out an announcement.\n",
    "\n",
    "## Assessment information and criteria\n",
    "\n",
    "- This coursework counts for 20% of the marks of Foundations of Data Science.\n",
    "\n",
    "- The coursework is designed to assess the following course Learning Outcomes: \n",
    "\n",
    "    1. Describe and apply good practices for storing, manipulating, summarising, and visualising data.\n",
    "    2. Use standard packages and tools for data analysis and describing this analysis, such as Python and LaTeX.\n",
    "\n",
    "- It is marked based on the PDF export from a Jupyter notebook (see __General instructions__ below), which you are to submit via Gradescope (see __Assessment/Coursework 1 - Data wrangling and visualisation__ folder in Learn).\n",
    "\n",
    "- The assignment is marked out of 100 and the number of points is indicated by each question. \n",
    "\n",
    "- We will assess your work on the following criteria:\n",
    "  \n",
    "  - functional code that\n",
    "    (a) performs the computations asked for, as measured by verifying some of the numeric outputs from your processing and reading your code if there is doubt about what you have done and\n",
    "    (b) is clear and makes good use of Pandas functions\n",
    "    \n",
    "  - the quality of the visualisations, measured against the _Visualisation principles and guidance_ handout used in the [S1 Week 5 workshop](https://opencourse.inf.ed.ac.uk/inf2-fds/course-materials/semester-1/week-5/workshop) \n",
    "  \n",
    "  - the quality of your textual comments - as measured by how accurate, clear, complete and insightful they are.\n",
    "\n",
    "\n",
    "## General instructions\n",
    "\n",
    "- Read the instructions carefully, answering only what is required.\n",
    "\n",
    "- Make sure you are running a Jupyter Notebook that saves PDFs in the correct way, via LaTeX -- [using Noteable with the instructions here works](https://github.com/Inf2-FDS/FDS-CW1-2425/blob/main/README.md).\n",
    "\n",
    "- Read through all of a question before starting, as some parts build on each other.\n",
    "\n",
    "- In order to understand the meaning of the datasets, you may need to follow the links citing the data.\n",
    "\n",
    "- Fill in your answers in the cells indicated. You may delete text like \"Your answer to Q1.2 goes here\". __Do not edit or delete any other cells.__\n",
    "\n",
    "- Once you have finished a question, use a Jupyter notebook server to export your PDF, by selecting __File→Download as→PDF via LaTeX (.pdf)__. Check this PDF document looks as you expect it to. If changes are needed, update the notebook and export again.\n",
    "\n",
    "- We ask for multiple types of responses:\n",
    "\n",
    "  1. Numeric responses, which we will use to verify that the processing has been done correctly.\n",
    "  2. Visualisations, which will be assessed using the parts of the _Visualisation principles and guidance_ PDF that apply to the visualisation in question.\n",
    "  3. Comments on your findings, which may ask you to describe, explain or interpret your results, and which may ask you to reflect on your design choices. These comments will be assessed on how accurate, complete and insightful they are. \n",
    "  \n",
    "- Keep your answers brief and concise - in the PDF output, textual answers should remain inside the box.\n",
    "\n",
    "- For answers involving numerical values, use correct units where appropriate and format floating point values to a reasonable number of decimal places.\n",
    "\n",
    "- For answers involving visualisations:\n",
    "  - Make sure to label the visualisations clearly and provide titles, and legends where necessary, as per the _Visualisation Principles and Guidance_.\n",
    "  - All visualisations have to fit on one page. For example, 3 graphs on 3 separate pages counts as 3 visualisations; We would only mark one of these 3 visualisations.\n",
    "  - \"One visualisation\" could  be a figure with multiple subplots, for example created using the Matplotlib subplot and grid system.\n",
    "  - Creating plots in separate code cells that appear on the same page is not recommended. We may consider both plots as one visualisation, but mark you down for it. At worst we may only mark one visualisation.\n",
    "  - Please follow the guidance on font size in the _Visualisation Principles and Guidance_, i.e. a real font size of 8 points at a minimum. We instruct the markers to view all submissions at the same magnification and not to zoom in, to give a fair comparison between students.\n",
    "\n",
    "- We strongly recommend restarting the kernel and running all (__Kernel→Restart & Run all__) from time to time, to test your code works properly. \n",
    "\n",
    "- Once you have finished all the questions, submit the final PDF using the submission instructions in the __Assessment→Coursework 1 - Data wrangling and visualisation__ folder in Learn. __Please allow enough time to upload your PDF before the deadline.__\n",
    "\n",
    "## How long should I spend on this coursework?\n",
    "\n",
    "We have designed the coursework to take around 10 hours for a student who has completed the lab sessions, attended the lectures and workshops and done the comprehension questions. There will be some spread around this value, but if you're up-to-date with the course, and you're taking much longer than 10 hours (say 14 hours), then you might want to consider how many marks you are gaining for each extra hour of work.\n",
    "\n",
    "Good luck - we hope you enjoy it!"
   ]
  },
  {
   "cell_type": "code",
   "execution_count": null,
   "metadata": {
    "deletable": false,
    "editable": true,
    "slideshow": {
     "slide_type": ""
    },
    "tags": []
   },
   "outputs": [],
   "source": [
    "# Imports - run this cell first, and add your own imports here.\n",
    "# You can use any package you want, but we suggest you stick to ones used in the labs\n",
    "import pandas as pd\n",
    "import matplotlib.pyplot as plt\n",
    "import matplotlib\n",
    "import seaborn as sns\n",
    "import numpy as np\n",
    "\n",
    "matplotlib.rcParams['figure.dpi'] = 150 # Make figures have reasonable resolution when exporting\n",
    "\n",
    "# My imports\n",
    "import os"
   ]
  },
  {
   "cell_type": "markdown",
   "metadata": {
    "deletable": false,
    "editable": true,
    "slideshow": {
     "slide_type": ""
    },
    "tags": []
   },
   "source": [
    "<span style=\"display: none\">\\newpage</span>\n",
    "\n",
    "# Overview of the coursework and the Food Balance and Emissions datasets\n",
    "\n",
    "In Question 1, we will start exploring the [Food balance dataset](https://www.fao.org/faostat/en/#data/FBS), which we have downloaded from the Food and Agriculture Organization (FAO) of the United Nations¹. The Food Balance dataset includes detailed information on how much food a country in Europe has supplied during a certain time period (2010-2021). The dataset has the following columns:\n",
    "\n",
    "- __Area Code__: Code of the country.\n",
    "\n",
    "- __Area__: Name of the country.\n",
    "\n",
    "- __Item Code__: A code representing the specific item being reported, for example, 2511 for \"Wheat and products\".\n",
    "\n",
    "- __Item__: The name of the specific item being reported, for example, \"Wheat and products\". This column also contains rows labelled \"Population\", which reports the population of the corresponding country, and \"Grand Total\", which shows the total food supply.\n",
    "\n",
    "- __Element Code__: A code for the aspect of the food measured.\n",
    "\n",
    "- __Element__: The aspect of the food measured, for example, \"Protein supply quantity (g/capita/day)\".\n",
    "\n",
    "- __Unit__: The unit used for measurement in the Element column, for example, \"kilograms\" or \"kilocalories\". \n",
    "\n",
    "- __Y2010__: The food supply value for 2010. Similar columns are available for the remaining years up to 2021, i.e. Y2011, Y2012, ... \n",
    "\n",
    "Thus the data tells us how much food a country had available and what happened to it. It can also tell a story about how the food is used - whether it's exported, used for animals, or processed into other products.\n",
    "\n",
    "In Question 2, will focus on the [Emissions dataset](https://www.fao.org/faostat/en/#data/GT)², which includes greenhouse gas emissions produced by agricultural and food systems, encompassing gases like methane, nitrous oxide, and carbon dioxide, along with emissions from industrial processes. The data spans from 1961 to 2020, with predictions available for 2030 and 2050 in some cases. Emissions are measured in kilotonnes of CO<sub>2</sub> equivalent and originate from various sources within agriculture and food production, including farming, land use changes, and food processing. This dataset comprises the following columns:\n",
    "\n",
    "- __Area Code__: Code of the country.\n",
    "\n",
    "- __Area__: Name of the country.\n",
    "\n",
    "- __Item Code__: A code representing the specific item being reported, for example, 5060 for \"Rice Cultivation\".\n",
    "\n",
    "- __Item__: Name of the specific item being reported, for example, \"Rice Cultivation\".\n",
    "\n",
    "- __Element Code__: A code representing the specific element or aspect of the item being measured, for example, 7225 for \"Emissions (CH4)\".\n",
    "\n",
    "- __Element__: Name of the specific element or aspect of the item being measured, for example, \"Emissions (CH4)\".\n",
    "\n",
    "- __Unit__: The unit of measurement used for the data, for example, \"kilotonnes (kt)\".\n",
    "\n",
    "- __Y1961__: The emission value for the year 1961. Similar columns are available for the rest of the years.\n",
    "\n",
    "We'll combine Food Balance data with Emissions data in Question 3 to gain a more comprehensive understanding. Through a series of questions and data manipulation tasks, we will create meaningful visualisations and perform trend analysis to identify patterns regarding food availability, usage, and environmental factors of food production in various European countries. These insights can aid in agricultural planning and facilitate sustainable decision-making to ensure an environmentally friendly food supply. The questions are organised so that the first few questions give more detailed instructions and Question 4 is more open-ended. We also want you to consider whether there are any limitations of the data that should be considered. Finally, the datasets used in this notebook are not large enough to cause issues, but do consider computational complexity and efficiency of your code.\n",
    "\n",
    "¹ FAO. 2022. Food Balances (2010-). Accessed on 9 October 2024. https://www.fao.org/faostat/en/#data/FBS Licence: CC-BY-NC-4.0.\n",
    "\n",
    "² FAO. 2022. Emissions totals. Accessed on 9 October 2024. https://www.fao.org/faostat/en/#data/GT Licence: CC-BY-NC-4.0.\n",
    "\n",
    "# Question 1 (24 points) - Exploring the Food Balance and Emissions datasets\n",
    "\n",
    "Let's dive into this journey of exploring the food and emissions datasets, unravelling insights that may contribute to a healthier lifestyle and a more vibrant Earth."
   ]
  },
  {
   "cell_type": "markdown",
   "metadata": {
    "deletable": false,
    "editable": true,
    "slideshow": {
     "slide_type": ""
    },
    "tags": []
   },
   "source": [
    "<span style=\"display: none\">\\newpage</span>\n",
    "\n",
    "## Question 1.1 (2 points)\n",
    "\n",
    "We have downloaded data from the FAO website, extracted data relating to Europe and done some preproccessing to simplify the data.\n",
    "\n",
    "- Read in the Food Balance and Emissions datasets. They are located in the folder `dataset` and are called `FoodBalance_Europe.csv` and `Emissions_Europe.csv` respectively. Name the dataframes created by reading in the files `foodbalance_df` and `emissions_df`. \n",
    "\n",
    "- Then, __print__ the number of __rows__ and __columns__ in the __both__ datasets in the format:\n",
    "```\n",
    "<Dataset>: <n> rows and <m> columns\n",
    "```\n",
    "Here `<Dataset>` is a string that makes it clear which dataset you're referring to."
   ]
  },
  {
   "cell_type": "code",
   "execution_count": null,
   "metadata": {
    "deletable": false,
    "editable": true,
    "slideshow": {
     "slide_type": ""
    },
    "tags": []
   },
   "outputs": [],
   "source": [
    "# Your code for Q1.1 goes here"
   ]
  },
  {
   "cell_type": "code",
   "execution_count": null,
   "metadata": {
    "editable": true,
    "slideshow": {
     "slide_type": ""
    },
    "tags": []
   },
   "outputs": [],
   "source": [
    "# Playground: Use this box to run any additional code for exploration purposes (e.g., printing data, debugging).\n",
    "# Feel free to view the data, test code, and so t here.\n",
    "# Please remember to delete this box before exporting the final notebook as a PDF. We do not mark codes and analysis were done here."
   ]
  },
  {
   "cell_type": "markdown",
   "metadata": {
    "deletable": false,
    "editable": true,
    "slideshow": {
     "slide_type": ""
    },
    "tags": []
   },
   "source": [
    "<span style=\"display: none\">\\newpage</span>\n",
    "\n",
    "## Question 1.2 (3 points)\n",
    "\n",
    "Run `foodbalance_df.info()` and `emissions_df.info()` in the cell below. Mention **3** important observations that are true of both datasets. Please make sure that your answer is no longer than 3 lines, i.e. stays in the box in the PDF file you have produced from this notebook. You can delete the text saying \"Your answer goes here\"."
   ]
  },
  {
   "cell_type": "code",
   "execution_count": null,
   "metadata": {
    "editable": true,
    "slideshow": {
     "slide_type": ""
    },
    "tags": []
   },
   "outputs": [],
   "source": [
    "# Q1.2 \n",
    "# Run this code\n",
    "foodbalance_df.info()"
   ]
  },
  {
   "cell_type": "code",
   "execution_count": null,
   "metadata": {
    "editable": true,
    "slideshow": {
     "slide_type": ""
    },
    "tags": []
   },
   "outputs": [],
   "source": [
    "# Q1.2\n",
    "# Run the code\n",
    "emissions_df.info()"
   ]
  },
  {
   "cell_type": "markdown",
   "metadata": {
    "editable": false,
    "slideshow": {
     "slide_type": ""
    },
    "tags": []
   },
   "source": [
    "<span style=\"display: none\">\\answerbox[12]{}</span>"
   ]
  },
  {
   "cell_type": "markdown",
   "metadata": {
    "editable": true,
    "slideshow": {
     "slide_type": ""
    },
    "tags": []
   },
   "source": [
    "Your answer to Q1.2  goes here:"
   ]
  },
  {
   "cell_type": "markdown",
   "metadata": {
    "editable": true,
    "slideshow": {
     "slide_type": ""
    },
    "tags": []
   },
   "source": [
    "<span style=\"display: none\">\\newpage</span>\n",
    "\n",
    "## Question 1.3 (5 points)\n",
    "\n",
    "In this subquestion, we'll investigate the structure of the food balance data.\n",
    "\n",
    "1. Calculate and **print**:\n",
    " \n",
    "   - the number of unique **Items** in the Food Balance dataset (**Do not remove** the 'Population' and 'Grand Total' values in the 'Item' column in this stage).\n",
    "\n",
    "   - the number of unique **Areas** (i.e. countries) in the Food Balance dataset.\n",
    "\n",
    "   __Print__ the results in the following format:\n",
    "```\n",
    "Number of unique items in the Food Balance dataset: <value>\n",
    "Number of unique areas in the Food Balance dataset: <value>\n",
    "```\n",
    "\n",
    "2. __Print__ the unique values in the 'Item' column of the `foodbalance_df` dataframe.\n",
    "\n",
    "3. Calculate and __print__ the count of each unique value in 'Element' column of the `foodbalance_df` dataframe.\n",
    "\n",
    "4. Comment on what the output in parts 1-3 tell you about the structure of the food balance dataset."
   ]
  },
  {
   "cell_type": "code",
   "execution_count": null,
   "metadata": {
    "deletable": false,
    "editable": true,
    "slideshow": {
     "slide_type": ""
    },
    "tags": []
   },
   "outputs": [],
   "source": [
    "## Your code for Q1.3 part 1 goes here"
   ]
  },
  {
   "cell_type": "code",
   "execution_count": null,
   "metadata": {
    "editable": true,
    "slideshow": {
     "slide_type": ""
    },
    "tags": []
   },
   "outputs": [],
   "source": [
    "## Your code for Q1.3 part 2 goes here"
   ]
  },
  {
   "cell_type": "code",
   "execution_count": null,
   "metadata": {
    "editable": true,
    "slideshow": {
     "slide_type": ""
    },
    "tags": []
   },
   "outputs": [],
   "source": [
    "## Your code for Q1.3 part 3 goes here"
   ]
  },
  {
   "cell_type": "markdown",
   "metadata": {
    "editable": false,
    "slideshow": {
     "slide_type": ""
    },
    "tags": []
   },
   "source": [
    "<span style=\"display: none\">\\answerbox[10]{}</span>"
   ]
  },
  {
   "cell_type": "markdown",
   "metadata": {
    "editable": true,
    "slideshow": {
     "slide_type": ""
    },
    "tags": []
   },
   "source": [
    "Your answer for Q1.3 part 4 goes here"
   ]
  },
  {
   "cell_type": "markdown",
   "metadata": {
    "deletable": false,
    "editable": true,
    "slideshow": {
     "slide_type": ""
    },
    "tags": []
   },
   "source": [
    "<span style=\"display: none\">\\newpage</span>\n",
    "\n",
    "## Question 1.4 (6 points)\n",
    "\n",
    "In the Food Balance data, \n",
    "\n",
    "1. Separate out the Population and Grand Total items from the specific items as follows:\n",
    "   \n",
    "   - Select rows with Items equal to \"Population\" or \"Grand Total\" and keep those rows in a separate dataframe named `foodbalance_extra_df`.\n",
    "     \n",
    "   - Remove those rows from `foodbalance_df`. The `foodbalance_df` dataframe should not include \"Population\" and \"Grand Total\" items any more, covering only food types after this preprocessing. \"Population\" shows the total population of each country, while \"Grand Total\" shows the overall food supply. Since neither provides data for individual food items, we want to keep them separate to avoid affecting our future calculations.\n",
    "\n",
    "   - **Print** the new number of rows and columns in the preprocessed `foodbalance_df` and `foodbalance_extra_df` in the following format:\n",
    "```\n",
    "Food Balance dataset: <n> rows and <m> columns\n",
    "Food Balance extra data: <n> rows and <m> columns\n",
    "```\n",
    "\n",
    "2. **Print** the total number of NaN values in the preprocessed `foodbalance_df` in the following format:\n",
    "```\n",
    "Total number of NaN values in the preprocessed Food Balance dataset: <Number of NaN values>\n",
    "```\n",
    "\n",
    "3. How much data is missing is in which years? Write some code to find out and describe the pattern of the data.  Please make sure that your answer is no longer than 3 lines, i.e. stays in the box in the PDF file you have produced from this notebook. You can delete the text saying \"Your answer goes here\"."
   ]
  },
  {
   "cell_type": "code",
   "execution_count": null,
   "metadata": {
    "deletable": false,
    "editable": true,
    "slideshow": {
     "slide_type": ""
    },
    "tags": []
   },
   "outputs": [],
   "source": [
    "## Your code for Q1.4 part 1 goes here"
   ]
  },
  {
   "cell_type": "code",
   "execution_count": null,
   "metadata": {
    "editable": true,
    "slideshow": {
     "slide_type": ""
    },
    "tags": []
   },
   "outputs": [],
   "source": [
    "## Your code for Q1.4 part 2 goes here"
   ]
  },
  {
   "cell_type": "code",
   "execution_count": null,
   "metadata": {
    "editable": true,
    "slideshow": {
     "slide_type": ""
    },
    "tags": []
   },
   "outputs": [],
   "source": [
    "## Your code for Q1.4 part 3 goes here"
   ]
  },
  {
   "cell_type": "markdown",
   "metadata": {
    "editable": false,
    "slideshow": {
     "slide_type": ""
    },
    "tags": []
   },
   "source": [
    "<span style=\"display: none\">\\answerbox[10]{}</span>"
   ]
  },
  {
   "cell_type": "markdown",
   "metadata": {
    "editable": true,
    "slideshow": {
     "slide_type": ""
    },
    "tags": []
   },
   "source": [
    "Your answer to Q1.4 part 3 goes here:"
   ]
  },
  {
   "cell_type": "markdown",
   "metadata": {
    "deletable": false,
    "editable": true,
    "slideshow": {
     "slide_type": ""
    },
    "tags": []
   },
   "source": [
    "<span style=\"display: none\">\\newpage</span>\n",
    "\n",
    "## Question 1.5 (8 points)\n",
    "\n",
    "1. Add a column to `foodbalance_df` called \"Total\", that contains the total of the columns relating to the years 2012 to 2021 for each row.\n",
    "  \n",
    "2. Print the top 3 countries (in descending order) with the highest total **\"Production\"** of \"Alcoholic Beverages\" from 2012 to 2021. For each of the 3 countries show the country name (\"Area\"), the total Production value, and the Units. You can use a data frame to display the output.\n",
    "\n",
    "3. For the top 3 countries reported above, for the Alcoholic Beverages, calculate the total \"Production\", \"Import Quantity\", \"Export Quantity\", \"Domestic supply quantity\", and \"Losses\" (**Hint:** find them in Element column) from 2012 to 2021. Make sure to show the unit for each.  You can use a data frame to display the output.\n",
    "5. According to the observed values, compare these three countries regarding alcoholic beverages (e.g. which country had the highest alcoholic beverages production?). Please make sure that your answer is no longer than 5 lines, i.e. stays in the box in the PDF file you have produced from this notebook. You can delete the text saying \"Your answer goes here\"."
   ]
  },
  {
   "cell_type": "code",
   "execution_count": null,
   "metadata": {
    "editable": true,
    "slideshow": {
     "slide_type": ""
    },
    "tags": []
   },
   "outputs": [],
   "source": [
    "# Your code for Q1.5 part 1 goes here"
   ]
  },
  {
   "cell_type": "code",
   "execution_count": null,
   "metadata": {
    "deletable": false,
    "editable": true,
    "slideshow": {
     "slide_type": ""
    },
    "tags": []
   },
   "outputs": [],
   "source": [
    "# Your code for Q1.5 part 2 goes here"
   ]
  },
  {
   "cell_type": "code",
   "execution_count": null,
   "metadata": {
    "editable": true,
    "slideshow": {
     "slide_type": ""
    },
    "tags": []
   },
   "outputs": [],
   "source": [
    "# Your code for Q1.5 part 3 goes here"
   ]
  },
  {
   "cell_type": "markdown",
   "metadata": {
    "deletable": false,
    "editable": false,
    "slideshow": {
     "slide_type": ""
    },
    "tags": []
   },
   "source": [
    "<span style=\"display: none\">\\answerbox[10]{}</span>"
   ]
  },
  {
   "cell_type": "markdown",
   "metadata": {
    "deletable": false,
    "editable": true,
    "slideshow": {
     "slide_type": ""
    },
    "tags": []
   },
   "source": [
    "Your answer to Q1.5 part 4 goes here:"
   ]
  },
  {
   "cell_type": "markdown",
   "metadata": {
    "deletable": false,
    "editable": true,
    "slideshow": {
     "slide_type": ""
    },
    "tags": []
   },
   "source": [
    "<span style=\"display: none\">\\newpage</span>\n",
    "\n",
    "# Question 2 (20 points) - Merging Food Balance and Emissions Datasets\n",
    "    \n",
    "Food production is the biggest source of emissions of nitrous oxide (N<sub>2</sub>O), which is a major greenhouse gas¹. N<sub>2</sub>O comes from fertilizer and manure used on crops. N<sub>2</sub>O emissions could be reduced by efficiency improvements in the use of fertilizer, and by reducing the consumption of meat and dairy products¹.\n",
    "\n",
    "We would like to compare the N<sub>2</sub>O emissions data with food supply information for each country. In this question we will extract N<sub>2</sub>O emissions relating to food in each country and year from `emissions_df`, and then combine this data with the food supply data from `foodbalance_df` created in **Q1.4**.\n",
    "\n",
    "¹ Reay et al. (2012) 'Global agriculture and nitrous oxide emissions'. *Nature Climate Change* 2:410-416. https://doi.org/10.1038/nclimate1458"
   ]
  },
  {
   "cell_type": "markdown",
   "metadata": {
    "deletable": false,
    "editable": true,
    "slideshow": {
     "slide_type": ""
    },
    "tags": []
   },
   "source": [
    "<span style=\"display: none\">\\newpage</span>\n",
    "\n",
    "## Question 2.1 (4 points)\n",
    "\n",
    "In this subquestion we will produce a transformed version of the emissions data and filter it, so that the years it covers correspond to the food balance data.\n",
    "\n",
    "1. Run the code cell below to create `emissions_long_df`. Explain how the code has transformed the data frame, and why this transformation may be helpful.\n",
    "\n",
    "2. Remove data from `emissions_long_df` for the years before 2010 and after 2021. Keep the filtered data in a dataframe named `filtered_emissions_long_df`. You may wish to transform the type of the \"Year\" column to make the filtering easier. **Print** the number of rows in the `filtered_emissions_long_df`.\n",
    "\n",
    "3. Based on the created dataframe (`filtered_emissions_long_df`), __print__ both the __mean__ and __standard deviation__ of **emissions (N2O)** due to **food household consumption** in the **\"United Kingdom of Great Britain and Northern Ireland\"** for the years **2010 to 2021** in the following format, with outputs given to **two decimal places**.\n",
    "```\n",
    "Mean and std of N2O related to Food Household Consumption\n",
    "in United Kingdom for 2010 to 2021: mean: <value/unit>, std: <value/unit>\n",
    "```"
   ]
  },
  {
   "cell_type": "code",
   "execution_count": null,
   "metadata": {
    "editable": true,
    "slideshow": {
     "slide_type": ""
    },
    "tags": []
   },
   "outputs": [],
   "source": [
    "# Run this cell - do not edit!\n",
    "id_vars = ['Area Code', 'Area', 'Item Code', 'Item', 'Element Code', 'Element', 'Unit']\n",
    "emissions_long_df = emissions_df.melt(id_vars, var_name='Year')\n",
    "emissions_long_df.head()"
   ]
  },
  {
   "cell_type": "markdown",
   "metadata": {
    "editable": false,
    "slideshow": {
     "slide_type": ""
    },
    "tags": []
   },
   "source": [
    "<span style=\"display: none\">\\answerbox[5]{}</span>"
   ]
  },
  {
   "cell_type": "markdown",
   "metadata": {
    "editable": true,
    "slideshow": {
     "slide_type": ""
    },
    "tags": []
   },
   "source": [
    "Your answer to 2.1 Part 1 goes here"
   ]
  },
  {
   "cell_type": "code",
   "execution_count": null,
   "metadata": {
    "editable": true,
    "slideshow": {
     "slide_type": ""
    },
    "tags": []
   },
   "outputs": [],
   "source": [
    "# Your code for Q2.1 part 2 goes here"
   ]
  },
  {
   "cell_type": "code",
   "execution_count": null,
   "metadata": {
    "deletable": false,
    "editable": true,
    "slideshow": {
     "slide_type": ""
    },
    "tags": []
   },
   "outputs": [],
   "source": [
    "# Your code for Q2.1 part 3 goes here"
   ]
  },
  {
   "attachments": {},
   "cell_type": "markdown",
   "metadata": {
    "editable": true,
    "slideshow": {
     "slide_type": ""
    },
    "tags": []
   },
   "source": [
    "<span style=\"display: none\">\\newpage</span>\n",
    "\n",
    "## Question 2.2 (3 points) \n",
    "\n",
    "Here we will create a dataframe called `food_emissions_df` that contains information about N2O emissions from food. To do this:\n",
    "\n",
    "- **Remove** rows in `filtered_emissions_long_df` not related to food production: \n",
    "'Energy', 'International bunkers', 'IPPU', 'Other', 'Waste'\n",
    "\n",
    "- **Select** rows containing  the element of \"Emissions (N2O)\"\n",
    "\n",
    "- **Store** the resulting data frame  as `food_emissions_df`.\n",
    "\n",
    "- **Rename** the 'value' column to 'Emissions (N2O)'\n",
    "\n",
    "- __Print__ the column names of `food_emissions_df`\n",
    "\n",
    "- __Print__ the number of rows in `food_emissions_df`."
   ]
  },
  {
   "cell_type": "code",
   "execution_count": null,
   "metadata": {
    "deletable": false,
    "editable": true,
    "slideshow": {
     "slide_type": ""
    },
    "tags": []
   },
   "outputs": [],
   "source": [
    "# Your code for Q2.2 goes here"
   ]
  },
  {
   "cell_type": "markdown",
   "metadata": {
    "editable": true,
    "slideshow": {
     "slide_type": ""
    },
    "tags": []
   },
   "source": [
    "<span style=\"display: none\">\\newpage</span>\n",
    "\n",
    "## Question 2.3 (4 points) \n",
    "\n",
    "Use `food_emissions_df` (created in **Q2.2**) to calculate the total N2O emissions due to food in each year for each country.\n",
    "\n",
    "1. Name the resulting dataframe `total_food_emissions_df`. __Print__ the number of rows in `total_food_emissions_df`.\n",
    "\n",
    "2. Print the three countries with the highest N2O emissions in 2021, including the \"Area\" and \"Unit\" columns in your output.\n",
    "\n",
    "3. Are these the European countries you might expect to have the highest N2O emissions? Explain the reasoning behind your answer briefly."
   ]
  },
  {
   "cell_type": "code",
   "execution_count": null,
   "metadata": {
    "editable": true,
    "slideshow": {
     "slide_type": ""
    },
    "tags": []
   },
   "outputs": [],
   "source": [
    "# Your code for Q2.3 Part 1 goes here"
   ]
  },
  {
   "cell_type": "code",
   "execution_count": null,
   "metadata": {
    "editable": true,
    "slideshow": {
     "slide_type": ""
    },
    "tags": []
   },
   "outputs": [],
   "source": [
    "# Your code for 2.3 Part 2 goes here"
   ]
  },
  {
   "cell_type": "markdown",
   "metadata": {
    "deletable": true,
    "editable": true,
    "slideshow": {
     "slide_type": ""
    },
    "tags": []
   },
   "source": [
    "<span style=\"display: none\">\\answerbox[5]{}</span>"
   ]
  },
  {
   "cell_type": "markdown",
   "metadata": {
    "editable": true,
    "slideshow": {
     "slide_type": ""
    },
    "tags": []
   },
   "source": [
    "Your answer for Q2.2 Part 3 goes here"
   ]
  },
  {
   "cell_type": "markdown",
   "metadata": {
    "editable": true,
    "slideshow": {
     "slide_type": ""
    },
    "tags": []
   },
   "source": [
    "<span style=\"display: none\">\\newpage</span>\n",
    "\n",
    "## Question 2.4 (5 points) \n",
    "\n",
    "We will now create a dataframe that, for each combination of Area (Country) and Year, contains the total N2O emissions due to food and the total food supply.\n",
    "\n",
    "1. **Convert** `foodbalance_extra_df` into a dataframe `total_food_supply_df`, with a similar format `emissions_long_df` that you created in **Q2.1**. \n",
    "\n",
    "2. **Filter** `total_food_supply_df` on the 'Food supply (kcal)' Element and the 'Grand Total' Item.\n",
    "\n",
    "3. **Rename** the 'value' column to 'Grand Total'\n",
    "\n",
    "4. **Merge** the `total_food_supply_df` and `total_food_emissions_df` (created in **Q2.3**). The new dataframe should contain emissions and food balance information for each country for each year from 2010 to 2021. Call the dataframe `merged_food_emissions_df`.\n",
    "   \n",
    "    - **Print** the number of rows in `total_food_supply_df`, `total_food_emissions_df` and   `merged_food_emissions_df`.\n",
    "  \n",
    "    - **Print** the head of the `merged_food_emissions_df`."
   ]
  },
  {
   "cell_type": "code",
   "execution_count": null,
   "metadata": {
    "editable": true,
    "slideshow": {
     "slide_type": ""
    },
    "tags": []
   },
   "outputs": [],
   "source": [
    "# Your code for Q2.4 goes here"
   ]
  },
  {
   "cell_type": "markdown",
   "metadata": {
    "editable": true,
    "slideshow": {
     "slide_type": ""
    },
    "tags": []
   },
   "source": [
    "<span style=\"display: none\">\\newpage</span>\n",
    "\n",
    "## Question 2.5 (4 points) \n",
    "\n",
    "1. Use your discretion to remove unnecessary columns from `merged_food_emissions_df` and rename any columns so that they are as meaningful as possible. Remember, the aim is to be able to compare for each year and for each country the Grand Total of food supply and the Emissions (N2O).\n",
    "\n",
    "2. Select the `merged_food_emissions_df` corresponding to the year 2010, sorted in descending order of Emissions (N2O). Print the first 5 of these rows.\n",
    "\n",
    "3. Comment on what the output shows."
   ]
  },
  {
   "cell_type": "code",
   "execution_count": null,
   "metadata": {
    "editable": true,
    "slideshow": {
     "slide_type": ""
    },
    "tags": []
   },
   "outputs": [],
   "source": [
    "# Your code for Q2.5 part 1 goes here"
   ]
  },
  {
   "cell_type": "code",
   "execution_count": null,
   "metadata": {
    "editable": true,
    "slideshow": {
     "slide_type": ""
    },
    "tags": []
   },
   "outputs": [],
   "source": [
    "# Your code for Q2.5 part 2 goes here"
   ]
  },
  {
   "cell_type": "markdown",
   "metadata": {
    "editable": false,
    "slideshow": {
     "slide_type": ""
    },
    "tags": []
   },
   "source": [
    "<span style=\"display: none\">\\answerbox[5]{}</span>"
   ]
  },
  {
   "cell_type": "markdown",
   "metadata": {
    "editable": true,
    "slideshow": {
     "slide_type": ""
    },
    "tags": []
   },
   "source": [
    "Your answer to Q2.5 part 3 goes here"
   ]
  },
  {
   "cell_type": "markdown",
   "metadata": {
    "deletable": false,
    "editable": true,
    "slideshow": {
     "slide_type": ""
    },
    "tags": []
   },
   "source": [
    "<span style=\"display: none\">\\newpage</span>\n",
    "\n",
    "# Question 3 (26) - Trends and anomalies across areas\n",
    "\n",
    "In this question we will see \n",
    "\n",
    "- if there are any anomalies in the data.\n",
    "\n",
    "- if there are any trends across areas."
   ]
  },
  {
   "cell_type": "markdown",
   "metadata": {
    "deletable": false,
    "editable": true,
    "slideshow": {
     "slide_type": ""
    },
    "tags": []
   },
   "source": [
    "<span style=\"display: none\">\\newpage</span>\n",
    "\n",
    "## Question 3.1 - Anomaly detection (8 points)\n",
    "\n",
    "Based on the `total_food_emissions_df`, **created in Q2.1**, check for any anomalies (countries as anomaly) in the data. \n",
    "- Use any appropriate approach in your choice to identify possible anomalies. \n",
    "- Explain your observation in a maximum of 5 lines. Are there any anomalies in the data? Do you think they are outliers? Should we remove them? \n",
    "\n",
    "If you have not done Q2, feel free to use original dataframe to answer this question. We only mark your final answer."
   ]
  },
  {
   "cell_type": "code",
   "execution_count": null,
   "metadata": {
    "deletable": false,
    "editable": true,
    "slideshow": {
     "slide_type": ""
    },
    "tags": []
   },
   "outputs": [],
   "source": [
    "# Your code for Q3.1 part 1 goes here"
   ]
  },
  {
   "cell_type": "markdown",
   "metadata": {
    "editable": false,
    "slideshow": {
     "slide_type": ""
    },
    "tags": []
   },
   "source": [
    "<span style=\"display: none\">\\answerbox[10]{}</span>"
   ]
  },
  {
   "cell_type": "markdown",
   "metadata": {
    "editable": true,
    "slideshow": {
     "slide_type": ""
    },
    "tags": []
   },
   "source": [
    "Your answer for Q3.1 part 2 goes here"
   ]
  },
  {
   "cell_type": "markdown",
   "metadata": {
    "deletable": false,
    "editable": true,
    "slideshow": {
     "slide_type": ""
    },
    "tags": []
   },
   "source": [
    "<span style=\"display: none\">\\newpage</span>\n",
    "\n",
    "## Question 3.2, Food and Emission Visualisation (10 points)\n",
    "\n",
    "Compare the N2O emissions from food and 'Food supply (kcal)' between areas using a visualisation of your choice. You can use either separate DataFrames or the `merged_food_emissions_df` (which you may have created in Q2.3). The points here are for the visualisation - you won't lose points for not having done Q2."
   ]
  },
  {
   "cell_type": "code",
   "execution_count": null,
   "metadata": {
    "deletable": false,
    "editable": true,
    "slideshow": {
     "slide_type": ""
    },
    "tags": []
   },
   "outputs": [],
   "source": [
    "# Your code for Q3.2 goes here"
   ]
  },
  {
   "cell_type": "markdown",
   "metadata": {
    "deletable": false,
    "editable": true,
    "slideshow": {
     "slide_type": ""
    },
    "tags": []
   },
   "source": [
    "<span style=\"display: none\">\\newpage</span>\n",
    "\n",
    "## Question 3.3 (8 points)\n",
    "\n",
    "1. Explain your reasons behind your visualisation design choice and summarise its pros and cons, including any features you would add given more time.\n",
    "   \n",
    "2. Interpret the `Food and Emission` visualisation that you created; i.e. summarise the patterns in the visualisation and any particularly noteworthy features.\n",
    "\n",
    "Please make sure that your answer is no longer than 30 lines, i.e. stays in the box in the PDF file you have produced from this notebook. You can delete the text saying \"Your answer goes here\".\n",
    "\n",
    "\n",
    "<span style=\"display: none\">\\answerbox[30]{}</span>"
   ]
  },
  {
   "cell_type": "markdown",
   "metadata": {
    "deletable": false,
    "editable": true,
    "slideshow": {
     "slide_type": ""
    },
    "tags": []
   },
   "source": [
    "Your answer for Q3.3 goes here"
   ]
  },
  {
   "cell_type": "markdown",
   "metadata": {
    "deletable": false,
    "editable": true,
    "slideshow": {
     "slide_type": ""
    },
    "tags": []
   },
   "source": [
    "<span style=\"display: none\">\\newpage</span>\n",
    "\n",
    "# Question 4: Create your own visualisation (30 points)\n",
    "\n",
    "It's now your opportunity to create your own visualisation of the Food and Emissions data. You can use either the Food balance or Emissions data, or you can use the combined DataFrame created in Question 2.  \n",
    "We also provided you with World Emission and Food datasets (`FoodBalance_Global.csv.gz` and `Emissions_Global.csv.gz`) that include data for all countries worldwide. It is up to you whether to use the European countries' datasets or the global datasets. Please don't bring in external datasets - the idea is that this is a small exercise, not a whole project.\n",
    "\n",
    "Here are some ideas:\n",
    "\n",
    "- How have production and consumption patterns of major food commodities (e.g., grains, meat, dairy) changed over the past few decades?\n",
    "- Are there noticeable shifts in dietary preferences at a global or regional level?\n",
    "- What are the trends in agricultural emissions, and how are they related to changes in production of foods?\n",
    "\n",
    "We will give credit for particularly interesting questions, good visualisations (as measured by the criteria in the visualisation principles handout) and insightful interpretation.\n",
    "\n",
    "<span style=\"display: none\">\\newpage</span>\n",
    "\n",
    "## Question 4.1 (18 points)\n",
    "\n",
    "Create your visualisation here."
   ]
  },
  {
   "cell_type": "code",
   "execution_count": null,
   "metadata": {
    "deletable": false,
    "editable": true,
    "slideshow": {
     "slide_type": ""
    },
    "tags": []
   },
   "outputs": [],
   "source": [
    "# Your code for Q4.1 goes here"
   ]
  },
  {
   "cell_type": "markdown",
   "metadata": {
    "deletable": false,
    "editable": true,
    "slideshow": {
     "slide_type": ""
    },
    "tags": []
   },
   "source": [
    "<span style=\"display: none\">\\newpage</span>\n",
    "\n",
    "## Question 4.2 (12 points)\n",
    "\n",
    "1. Note the question your visualisation addresses.\n",
    "2. Explain your reasons behind your visualisation design choice and summarise its pros and cons. Please make sure that your answer is no longer than 5 lines.\n",
    "3. Write your interpretation of the visualisation. Please make sure that your answer is no longer than 20 lines (plus to 5 lines for your references in the case that you referenced to external resources), i.e. stays in the box in the PDF file you have produced from this notebook. You can delete the text saying \"Your answer goes here\".\n",
    "reference visualisation principle exactly.\n",
    "\n",
    "<span style=\"display: none\">\\answerbox[35]{}</span>"
   ]
  },
  {
   "cell_type": "markdown",
   "metadata": {
    "deletable": false,
    "editable": true,
    "slideshow": {
     "slide_type": ""
    },
    "tags": []
   },
   "source": [
    "Your answer to Q4.2 goes here"
   ]
  },
  {
   "cell_type": "markdown",
   "metadata": {
    "editable": true,
    "slideshow": {
     "slide_type": ""
    },
    "tags": []
   },
   "source": [
    "<span style=\"display: none\">\\newpage</span>\n",
    "\n",
    "# End of assignment playground - we will mark nothing beyond this point!"
   ]
  },
  {
   "cell_type": "code",
   "execution_count": null,
   "metadata": {},
   "outputs": [],
   "source": []
  }
 ],
 "metadata": {
  "celltoolbar": "Edit Metadata",
  "deepnote": {
   "is_reactive": false
  },
  "deepnote_execution_queue": [],
  "deepnote_notebook_id": "3669a0bc-e82c-4d6a-be64-b70117ad1d2f",
  "kernelspec": {
   "display_name": "Python 3 (ipykernel)",
   "language": "python",
   "name": "python3"
  },
  "language_info": {
   "codemirror_mode": {
    "name": "ipython",
    "version": 3
   },
   "file_extension": ".py",
   "mimetype": "text/x-python",
   "name": "python",
   "nbconvert_exporter": "python",
   "pygments_lexer": "ipython3",
   "version": "3.9.17"
  },
  "title": "Inf2 - Foundations of Data Science 2021-22",
  "toc": {
   "base_numbering": 1,
   "nav_menu": {},
   "number_sections": true,
   "sideBar": true,
   "skip_h1_title": false,
   "title_cell": "Table of Contents",
   "title_sidebar": "Contents",
   "toc_cell": false,
   "toc_position": {
    "height": "calc(100% - 180px)",
    "left": "10px",
    "top": "150px",
    "width": "311.383px"
   },
   "toc_section_display": true,
   "toc_window_display": true
  }
 },
 "nbformat": 4,
 "nbformat_minor": 4
}
